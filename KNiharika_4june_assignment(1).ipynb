{
 "cells": [
  {
   "cell_type": "code",
   "execution_count": 27,
   "metadata": {},
   "outputs": [
    {
     "data": {
      "text/plain": [
       "['jyo',\n",
       " 1,\n",
       " 'cse',\n",
       " 'niha',\n",
       " 2,\n",
       " 'ab',\n",
       " 'chandu',\n",
       " 3,\n",
       " 'bg',\n",
       " 'saga',\n",
       " 6,\n",
       " 'ghj',\n",
       " 'sheth',\n",
       " 5,\n",
       " 'etm']"
      ]
     },
     "execution_count": 27,
     "metadata": {},
     "output_type": "execute_result"
    }
   ],
   "source": [
    "student=[\"jyo\",1,\"cse\",\"niha\",2,\"ab\",\"chandu\",3,\"bg\",\"saga\",6,\"ghj\",\"sheth\",5,\"etm\"]\n",
    "student"
   ]
  },
  {
   "cell_type": "code",
   "execution_count": 28,
   "metadata": {},
   "outputs": [
    {
     "data": {
      "text/plain": [
       "['jyo',\n",
       " 1,\n",
       " 'cse',\n",
       " 'niha',\n",
       " 2,\n",
       " 'ab',\n",
       " 'chandu',\n",
       " 3,\n",
       " 'bg',\n",
       " 'saga',\n",
       " 6,\n",
       " 'ghj',\n",
       " 'sheth',\n",
       " 5,\n",
       " 'etm']"
      ]
     },
     "execution_count": 28,
     "metadata": {},
     "output_type": "execute_result"
    }
   ],
   "source": [
    "emp=[\"jyo\",1,\"cse\",\"niha\",2,\"ab\",\"chandu\",3,\"bg\",\"saga\",6,\"ghj\",\"sheth\",5,\"etm\"]\n",
    "emp"
   ]
  },
  {
   "cell_type": "code",
   "execution_count": 29,
   "metadata": {},
   "outputs": [
    {
     "data": {
      "text/plain": [
       "['bottle',\n",
       " 100,\n",
       " 'box',\n",
       " 5,\n",
       " 'eraser',\n",
       " 78,\n",
       " 'pin',\n",
       " 89,\n",
       " 'pencil',\n",
       " 90,\n",
       " 'watch',\n",
       " 89.9,\n",
       " 'pen',\n",
       " 67.9,\n",
       " 'paper',\n",
       " 7.9,\n",
       " 'nailpolish',\n",
       " 78.9,\n",
       " 'book',\n",
       " 0.99]"
      ]
     },
     "execution_count": 29,
     "metadata": {},
     "output_type": "execute_result"
    }
   ],
   "source": [
    "product=[\"bottle\",100,\"box\",5,\"eraser\",78,\"pin\",89,\"pencil\",90,\"watch\",89.9,\"pen\",67.90,\"paper\",7.9,\"nailpolish\",78.9,\"book\",0.99]\n",
    "product"
   ]
  },
  {
   "cell_type": "code",
   "execution_count": 30,
   "metadata": {},
   "outputs": [
    {
     "data": {
      "text/plain": [
       "['jyo',\n",
       " 1,\n",
       " 'cse',\n",
       " 'niha',\n",
       " 2,\n",
       " 'ab',\n",
       " 'chandu',\n",
       " 3,\n",
       " 'bg',\n",
       " 'saga',\n",
       " 6,\n",
       " 'ghj',\n",
       " 'sheth',\n",
       " 5,\n",
       " 'etm',\n",
       " 'ramya',\n",
       " 6,\n",
       " 'op']"
      ]
     },
     "execution_count": 30,
     "metadata": {},
     "output_type": "execute_result"
    }
   ],
   "source": [
    "student.append(\"ramya\")\n",
    "student.append(6)\n",
    "student.append(\"op\")\n",
    "student"
   ]
  },
  {
   "cell_type": "code",
   "execution_count": 31,
   "metadata": {},
   "outputs": [
    {
     "data": {
      "text/plain": [
       "['jyo',\n",
       " 1,\n",
       " 'cse',\n",
       " 'niha',\n",
       " 2,\n",
       " 'ab',\n",
       " 'chandu',\n",
       " 3,\n",
       " 'bg',\n",
       " 'saga',\n",
       " 6,\n",
       " 'ghj',\n",
       " 'sheth',\n",
       " 5,\n",
       " 'etm',\n",
       " 'sam',\n",
       " 78,\n",
       " 'pl',\n",
       " 'vyshu',\n",
       " 59,\n",
       " 'hj']"
      ]
     },
     "execution_count": 31,
     "metadata": {},
     "output_type": "execute_result"
    }
   ],
   "source": [
    "emp.extend([\"sam\",78,\"pl\",\"vyshu\",59,\"hj\"])\n",
    "emp"
   ]
  },
  {
   "cell_type": "code",
   "execution_count": 13,
   "metadata": {},
   "outputs": [],
   "source": [
    "product.append(\"phone\")"
   ]
  },
  {
   "cell_type": "code",
   "execution_count": 16,
   "metadata": {},
   "outputs": [],
   "source": [
    "product.extend([\"ring\",\"charger\"])"
   ]
  },
  {
   "cell_type": "code",
   "execution_count": 32,
   "metadata": {},
   "outputs": [
    {
     "data": {
      "text/plain": [
       "['bottle',\n",
       " 100,\n",
       " 'box',\n",
       " 5,\n",
       " 'eraser',\n",
       " 78,\n",
       " 'pin',\n",
       " 89,\n",
       " 'pencil',\n",
       " 90,\n",
       " 'watch',\n",
       " 89.9,\n",
       " 'pen',\n",
       " 67.9,\n",
       " 'paper',\n",
       " 7.9,\n",
       " 'nailpolish',\n",
       " 78.9,\n",
       " 'book',\n",
       " 0.99]"
      ]
     },
     "execution_count": 32,
     "metadata": {},
     "output_type": "execute_result"
    }
   ],
   "source": [
    "product"
   ]
  },
  {
   "cell_type": "code",
   "execution_count": 33,
   "metadata": {},
   "outputs": [],
   "source": [
    "emp.append(\"jyo\")"
   ]
  },
  {
   "cell_type": "code",
   "execution_count": 43,
   "metadata": {},
   "outputs": [
    {
     "data": {
      "text/plain": [
       "['jyo',\n",
       " 1,\n",
       " 'cse',\n",
       " 'niha',\n",
       " 2,\n",
       " 'ab',\n",
       " 'chandu',\n",
       " 3,\n",
       " 'bg',\n",
       " 'saga',\n",
       " 6,\n",
       " 'ghj',\n",
       " 'sheth',\n",
       " 5,\n",
       " 'etm',\n",
       " 'sam',\n",
       " 78,\n",
       " 'pl',\n",
       " 'vyshu',\n",
       " 59,\n",
       " 'hj',\n",
       " 'jyo']"
      ]
     },
     "execution_count": 43,
     "metadata": {},
     "output_type": "execute_result"
    }
   ],
   "source": [
    "emp"
   ]
  },
  {
   "cell_type": "code",
   "execution_count": 34,
   "metadata": {},
   "outputs": [
    {
     "data": {
      "text/plain": [
       "21"
      ]
     },
     "execution_count": 34,
     "metadata": {},
     "output_type": "execute_result"
    }
   ],
   "source": [
    "emp.index('jyo',2)"
   ]
  },
  {
   "cell_type": "markdown",
   "metadata": {},
   "source": [
    "student.insert(3,\"joshi\")"
   ]
  },
  {
   "cell_type": "code",
   "execution_count": 35,
   "metadata": {},
   "outputs": [],
   "source": [
    "student.insert(3,\"joshi\")"
   ]
  },
  {
   "cell_type": "code",
   "execution_count": 36,
   "metadata": {},
   "outputs": [
    {
     "data": {
      "text/plain": [
       "['jyo',\n",
       " 1,\n",
       " 'cse',\n",
       " 'joshi',\n",
       " 'niha',\n",
       " 2,\n",
       " 'ab',\n",
       " 'chandu',\n",
       " 3,\n",
       " 'bg',\n",
       " 'saga',\n",
       " 6,\n",
       " 'ghj',\n",
       " 'sheth',\n",
       " 5,\n",
       " 'etm',\n",
       " 'ramya',\n",
       " 6,\n",
       " 'op']"
      ]
     },
     "execution_count": 36,
     "metadata": {},
     "output_type": "execute_result"
    }
   ],
   "source": [
    "student"
   ]
  },
  {
   "cell_type": "code",
   "execution_count": 42,
   "metadata": {},
   "outputs": [
    {
     "data": {
      "text/plain": [
       "'ramya'"
      ]
     },
     "execution_count": 42,
     "metadata": {},
     "output_type": "execute_result"
    }
   ],
   "source": [
    "student.pop()\n",
    "student.pop()\n",
    "student.pop()"
   ]
  },
  {
   "cell_type": "code",
   "execution_count": 45,
   "metadata": {},
   "outputs": [],
   "source": [
    "emp.remove('niha')\n",
    "emp.remove(2)\n",
    "emp.remove('ab')"
   ]
  },
  {
   "cell_type": "code",
   "execution_count": 46,
   "metadata": {},
   "outputs": [
    {
     "data": {
      "text/plain": [
       "['jyo',\n",
       " 1,\n",
       " 'cse',\n",
       " 'chandu',\n",
       " 3,\n",
       " 'bg',\n",
       " 'saga',\n",
       " 6,\n",
       " 'ghj',\n",
       " 'sheth',\n",
       " 5,\n",
       " 'etm',\n",
       " 'sam',\n",
       " 78,\n",
       " 'pl',\n",
       " 'vyshu',\n",
       " 59,\n",
       " 'hj',\n",
       " 'jyo']"
      ]
     },
     "execution_count": 46,
     "metadata": {},
     "output_type": "execute_result"
    }
   ],
   "source": [
    "emp"
   ]
  },
  {
   "cell_type": "code",
   "execution_count": 47,
   "metadata": {},
   "outputs": [],
   "source": [
    "student=(\"jyo\",1,\"cse\",\"niha\",2,\"ab\",\"chandu\",3,\"bg\",\"saga\",6,\"ghj\",\"sheth\",5,\"etm\")\n"
   ]
  },
  {
   "cell_type": "code",
   "execution_count": 48,
   "metadata": {},
   "outputs": [
    {
     "data": {
      "text/plain": [
       "('jyo',\n",
       " 1,\n",
       " 'cse',\n",
       " 'niha',\n",
       " 2,\n",
       " 'ab',\n",
       " 'chandu',\n",
       " 3,\n",
       " 'bg',\n",
       " 'saga',\n",
       " 6,\n",
       " 'ghj',\n",
       " 'sheth',\n",
       " 5,\n",
       " 'etm')"
      ]
     },
     "execution_count": 48,
     "metadata": {},
     "output_type": "execute_result"
    }
   ],
   "source": [
    "student\n"
   ]
  },
  {
   "cell_type": "code",
   "execution_count": 50,
   "metadata": {},
   "outputs": [
    {
     "data": {
      "text/plain": [
       "('jyo',\n",
       " 1,\n",
       " 'cse',\n",
       " 'niha',\n",
       " 2,\n",
       " 'ab',\n",
       " 'chandu',\n",
       " 3,\n",
       " 'bg',\n",
       " 'saga',\n",
       " 6,\n",
       " 'ghj',\n",
       " 'sheth',\n",
       " 5,\n",
       " 'etm',\n",
       " 'saga',\n",
       " 90,\n",
       " 'gyh')"
      ]
     },
     "execution_count": 50,
     "metadata": {},
     "output_type": "execute_result"
    }
   ],
   "source": [
    "emp=(\"jyo\",1,\"cse\",\"niha\",2,\"ab\",\"chandu\",3,\"bg\",\"saga\",6,\"ghj\",\"sheth\",5,\"etm\",\"saga\",90,\"gyh\")\n",
    "emp"
   ]
  },
  {
   "cell_type": "code",
   "execution_count": 51,
   "metadata": {},
   "outputs": [],
   "source": [
    "product=(\"bottle\",100,\"box\",5,\"eraser\",78,\"pin\",89,\"pencil\",90,\"watch\",89.9,\"pen\",67.90,\"paper\",7.9,\"nailpolish\",78.9,\"book\",0.99)\n"
   ]
  },
  {
   "cell_type": "code",
   "execution_count": 52,
   "metadata": {},
   "outputs": [
    {
     "data": {
      "text/plain": [
       "('bottle',\n",
       " 100,\n",
       " 'box',\n",
       " 5,\n",
       " 'eraser',\n",
       " 78,\n",
       " 'pin',\n",
       " 89,\n",
       " 'pencil',\n",
       " 90,\n",
       " 'watch',\n",
       " 89.9,\n",
       " 'pen',\n",
       " 67.9,\n",
       " 'paper',\n",
       " 7.9,\n",
       " 'nailpolish',\n",
       " 78.9,\n",
       " 'book',\n",
       " 0.99)"
      ]
     },
     "execution_count": 52,
     "metadata": {},
     "output_type": "execute_result"
    }
   ],
   "source": [
    "product"
   ]
  },
  {
   "cell_type": "code",
   "execution_count": 53,
   "metadata": {},
   "outputs": [
    {
     "data": {
      "text/plain": [
       "2"
      ]
     },
     "execution_count": 53,
     "metadata": {},
     "output_type": "execute_result"
    }
   ],
   "source": [
    "emp.count('saga')"
   ]
  },
  {
   "cell_type": "code",
   "execution_count": null,
   "metadata": {},
   "outputs": [],
   "source": []
  }
 ],
 "metadata": {
  "kernelspec": {
   "display_name": "Python 3",
   "language": "python",
   "name": "python3"
  },
  "language_info": {
   "codemirror_mode": {
    "name": "ipython",
    "version": 3
   },
   "file_extension": ".py",
   "mimetype": "text/x-python",
   "name": "python",
   "nbconvert_exporter": "python",
   "pygments_lexer": "ipython3",
   "version": "3.7.1"
  }
 },
 "nbformat": 4,
 "nbformat_minor": 2
}
