{
 "cells": [
  {
   "cell_type": "code",
   "execution_count": null,
   "metadata": {},
   "outputs": [],
   "source": [
    "#The Watson Machine Learning client provides access to the Watson Machine Learning Service on the IBM Cloud.\n",
    "\n",
    "from watson_machine_learning_client import WatsonMachineLearningAPIClient\n",
    "# If the previous cell caused an error:\n",
    "# (1) Uncomment the last line in this cell by removing the # sign\n",
    "# (2) Run this cell\n",
    "#!pip install watson-machine-learning-client --upgrade"
   ]
  },
  {
   "cell_type": "code",
   "execution_count": null,
   "metadata": {},
   "outputs": [],
   "source": [
    "3. Persist the model\n",
    "In this section you will learn how to store your model in the Watson Machine Learning repository by using the Watson Machine Learning Python client library.\n",
    "\n"
   ]
  },
  {
   "cell_type": "code",
   "execution_count": null,
   "metadata": {},
   "outputs": [],
   "source": [
    "3.1. Configure IBM Watson Machine Learning credentials\n",
    "To access your machine learning repository programmatically, you need to copy in your credentials, which you can see in your IBM Watson Machine Learning service details in IBM Cloud.\n",
    "\n",
    "Open your Project -> Settings -> Associated Service -> <Machine_Learning_Instance> by going to the IBM Cloud Dashboard and double-clicking the instance.\n",
    "Open the Service Credentials tab and view the credentials.\n",
    "Copy your credentials and replace the **URL**, **USERNAME**, **PASSWORD** and **INSTANCE_ID** placeholders in the next cell.\n",
    "Run the cell.\n"
   ]
  },
  {
   "cell_type": "code",
   "execution_count": null,
   "metadata": {},
   "outputs": [],
   "source": [
    "# @hidden_cell\n",
    "wml_credentials = {\n",
    "  \"username\": \"**USERNAME**\",\n",
    "  \"password\": \"**PASSWORD**\",\n",
    "  \"instance_id\": \"**INSTANCE_ID**\",\n",
    "  \"url\": \"https://ibm-watson-ml.mybluemix.net\"\n",
    "}\n"
   ]
  },
  {
   "cell_type": "code",
   "execution_count": null,
   "metadata": {},
   "outputs": [],
   "source": [
    "3.2 Save the model\n",
    "Connect to the Watson Machine Learning service using the provided credentials.\n",
    "\n",
    "client = WatsonMachineLearningAPIClient(wml_credentials)\n"
   ]
  },
  {
   "cell_type": "code",
   "execution_count": null,
   "metadata": {},
   "outputs": [],
   "source": [
    "Save the model to the Watson Machine Learning repository\n",
    "You use the Watson Machine Learning client's Repository class to store and manage models in the Watson Machine Learning Repository.\n",
    "\n",
    "Note: You can also use Watson Studio to manage models but in this notebook we are only using the client library."
   ]
  },
  {
   "cell_type": "code",
   "execution_count": null,
   "metadata": {},
   "outputs": [],
   "source": [
    "model_name = 'Shopping History'\n",
    "saved_model = client.repository.store_model(model=model, \n",
    "                                            meta_props={'name': model_name}, \n",
    "                                            training_data=train_data,\n",
    "                                            pipeline=pipeline)"
   ]
  },
  {
   "cell_type": "code",
   "execution_count": null,
   "metadata": {},
   "outputs": [],
   "source": [
    "You can delete a model from the repository by calling client.repository.delete.\n",
    "\n",
    "Display list of existing models in the Watson Machine Learning repository\n",
    "models_details = client.repository.list_models()"
   ]
  },
  {
   "cell_type": "code",
   "execution_count": null,
   "metadata": {},
   "outputs": [],
   "source": [
    "Display information about the saved model\n",
    "saved_model_uid = client.repository.get_model_uid(saved_model)\n",
    "model_details = client.repository.get_model_details(saved_model_uid)\n",
    "\n",
    "print(json.dumps(model_details, indent=2))"
   ]
  },
  {
   "cell_type": "code",
   "execution_count": null,
   "metadata": {},
   "outputs": [],
   "source": [
    "4. Deploy model to the IBM cloud\n",
    "You use the Watson Machine Learning client's Deployments class to deploy and score models."
   ]
  },
  {
   "cell_type": "code",
   "execution_count": null,
   "metadata": {},
   "outputs": [],
   "source": [
    "4.1 Create an online deployment for the model\n",
    "created_deployment = client.deployments.create(saved_model_uid, 'Deployment of {}'.format(model_name))"
   ]
  },
  {
   "cell_type": "code",
   "execution_count": null,
   "metadata": {},
   "outputs": [],
   "source": [
    "4.2 Retrieve the scoring endpoint for this model\n",
    "scoring_endpoint = client.deployments.get_scoring_url(created_deployment)\n",
    "print(scoring_endpoint)"
   ]
  },
  {
   "cell_type": "code",
   "execution_count": null,
   "metadata": {},
   "outputs": [],
   "source": []
  },
  {
   "cell_type": "code",
   "execution_count": null,
   "metadata": {},
   "outputs": [],
   "source": [
    "WHAT WE DO IN HERE :"
   ]
  },
  {
   "cell_type": "code",
   "execution_count": null,
   "metadata": {},
   "outputs": [],
   "source": [
    "!pip install watson_machine_learning_client --upgrade"
   ]
  },
  {
   "cell_type": "code",
   "execution_count": null,
   "metadata": {},
   "outputs": [],
   "source": [
    "#importing the installed library to make our notebook and machine leraning model to talk to each other\n",
    "from watson_machine_learning_client import WatsonMachineLearningAPIClient"
   ]
  },
  {
   "cell_type": "code",
   "execution_count": null,
   "metadata": {},
   "outputs": [],
   "source": [
    "# creating a variable to store machine learning service credentials \n",
    "creds = {\"url\": \"https://eu-gb.ml.cloud.ibm.com\",\n",
    "         \"username\": \"030f4599-74c6-463d-b8f7-32b43bab6318\",\n",
    "         \"password\": \"1ca5123f-6d7c-4e45-a0d7-0d8e1687f82a\",\n",
    "         \"instance_id\": \"6ea5ed45-744a-4fbe-87f9-d7cb3d8d09d8\",\n",
    "         \"access_key\": \"e07m8FD86eYoj4FjESB0aMvvdQDpWKdTF-SZIAOUPZO8\"}"
   ]
  },
  {
   "cell_type": "code",
   "execution_count": null,
   "metadata": {},
   "outputs": [],
   "source": [
    "# making our program to vail properties of machine learning deployment modules using creds\n",
    "client = WatsonMachineLearningAPIClient(creds)"
   ]
  },
  {
   "cell_type": "code",
   "execution_count": null,
   "metadata": {},
   "outputs": [],
   "source": [
    "# giving model properties\n",
    "model_props = {client.repository.ModelMetaNames.AUTHOR_NAME :\"Pradeepthi\",\n",
    "              client.repository.ModelMetaNames.AUTHOR_EMAIL :\"prads.pradeepthi@gmail.com\",\n",
    "              client.repository.ModelMetaNames.NAME :\"salary predictions\"}"
   ]
  },
  {
   "cell_type": "code",
   "execution_count": null,
   "metadata": {},
   "outputs": [],
   "source": [
    "# storing or saving the model \n",
    "model_artifact = client.repository.store_model(lr,meta_props = model_props)"
   ]
  },
  {
   "cell_type": "code",
   "execution_count": null,
   "metadata": {},
   "outputs": [],
   "source": [
    "# getting the uid of stored model \n",
    "published_model_uid = client.repository.get_model_uid(model_artifact)"
   ]
  },
  {
   "cell_type": "code",
   "execution_count": null,
   "metadata": {},
   "outputs": [],
   "source": [
    "published_model_uid "
   ]
  },
  {
   "cell_type": "code",
   "execution_count": null,
   "metadata": {},
   "outputs": [],
   "source": [
    "deployment = client.deployments.create(published_model_uid,name = \"salary predictions\")"
   ]
  },
  {
   "cell_type": "code",
   "execution_count": null,
   "metadata": {},
   "outputs": [],
   "source": [
    "scoring_endpoint = client.deployments.get_scoring_url(deployment)"
   ]
  },
  {
   "cell_type": "code",
   "execution_count": null,
   "metadata": {},
   "outputs": [],
   "source": [
    "scoring_endpoint"
   ]
  },
  {
   "cell_type": "code",
   "execution_count": null,
   "metadata": {},
   "outputs": [],
   "source": []
  },
  {
   "cell_type": "code",
   "execution_count": null,
   "metadata": {},
   "outputs": [],
   "source": []
  },
  {
   "cell_type": "code",
   "execution_count": null,
   "metadata": {},
   "outputs": [],
   "source": []
  },
  {
   "cell_type": "code",
   "execution_count": null,
   "metadata": {},
   "outputs": [],
   "source": []
  },
  {
   "cell_type": "code",
   "execution_count": null,
   "metadata": {},
   "outputs": [],
   "source": []
  }
 ],
 "metadata": {
  "kernelspec": {
   "display_name": "Python 3",
   "language": "python",
   "name": "python3"
  },
  "language_info": {
   "codemirror_mode": {
    "name": "ipython",
    "version": 3
   },
   "file_extension": ".py",
   "mimetype": "text/x-python",
   "name": "python",
   "nbconvert_exporter": "python",
   "pygments_lexer": "ipython3",
   "version": "3.6.5"
  }
 },
 "nbformat": 4,
 "nbformat_minor": 2
}
